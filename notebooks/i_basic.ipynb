{
 "cells": [
  {
   "cell_type": "markdown",
   "metadata": {},
   "source": [
    "# Chest X-Ray Pneumonia Classification"
   ]
  }
 ],
 "metadata": {
  "kernelspec": {
   "display_name": "ml-chest-xray-pneumonia-sn6N8PFF",
   "language": "python",
   "name": "python3"
  },
  "language_info": {
   "name": "python",
   "version": "3.11.0"
  }
 },
 "nbformat": 4,
 "nbformat_minor": 2
}
